{
 "cells": [
  {
   "cell_type": "markdown",
   "metadata": {},
   "source": [
    "常用图形操作\n",
    "#matplotlib\n",
    "\n",
    "1. 显示图片\n",
    "import matplotlib.pyplot as plt # plt 用于显示图片\n",
    "import matplotlib.image as mpimg # mpimg 用于读取图片\n",
    "import numpy as np\n",
    "\n",
    "lena = mpimg.imread('lena.png') # 读取和代码处于同一目录下的 lena.png\n",
    "#此时 lena 就已经是一个 np.array 了，可以对它进行任意处理\n",
    "lena.shape #(512, 512, 3)\n",
    "\n",
    "plt.imshow(lena) # 显示图片\n",
    "plt.axis('off') # 不显示坐标轴\n",
    "plt.show()\n",
    "\n",
    "2. 显示某个通道\n",
    "#显示图片的第一个通道\n",
    "lena_1 = lena[:,:,0]\n",
    "plt.imshow('lena_1')\n",
    "plt.show()\n",
    "#此时会发现显示的是热量图，不是我们预想的灰度图，可以添加 cmap 参数，有如下几种添加方法：\n",
    "plt.imshow('lena_1', cmap='Greys_r')\n",
    "plt.show()\n",
    "\n",
    "img = plt.imshow('lena_1')\n",
    "img.set_cmap('gray') # 'hot' 是热量图\n",
    "plt.show()\n",
    "\n",
    "3. 将 RGB 转为灰度图\n",
    "matplotlib 中没有合适的函数可以将 RGB 图转换为灰度图，可以根据公式自定义一个：\n",
    "def rgb2gray(rgb):\n",
    "    return np.dot(rgb[...,:3], [0.299, 0.587, 0.114])\n",
    "\n",
    "gray = rgb2gray(lena)    \n",
    "#也可以用 plt.imshow(gray, cmap = plt.get_cmap('gray'))\n",
    "plt.imshow(gray, cmap='Greys_r')\n",
    "plt.axis('off')\n",
    "plt.show()\n",
    "\n",
    "4. 对图像进行放缩\n",
    "这里要用到 scipy\n",
    "from scipy import misc\n",
    "lena_new_sz = misc.imresize(lena, 0.5) # 第二个参数如果是整数，则为百分比，如果是tuple，则为输出图像的尺寸\n",
    "plt.imshow(lena_new_sz)\n",
    "plt.axis('off')\n",
    "plt.show()"
   ]
  },
  {
   "cell_type": "markdown",
   "metadata": {},
   "source": [
    "二、PIL\n",
    "\n",
    "1. 显示图片\n",
    "from PIL import Image\n",
    "im = Image.open('lena.png')\n",
    "im.show()\n",
    "\n",
    "2. 将 PIL Image 图片转换为 numpy 数组\n",
    "im_array = np.array(im)\n",
    "#也可以用 np.asarray(im) 区别是 np.array() 是深拷贝，np.asarray() 是浅拷贝\n",
    "\n",
    "3. 保存 PIL 图片\n",
    "直接调用 Image 类的 save 方法\n",
    "from PIL import Image\n",
    "I = Image.open('lena.png')\n",
    "I.save('new_lena.png')\n",
    "\n",
    "4. 将 numpy 数组转换为 PIL 图片\n",
    "这里采用 matplotlib.image 读入图片数组，注意这里读入的数组是 float32 型的，范围是 0-1，而 PIL.Image 数据是 uinit8 型的，范围是0-255，所以要进行转换：\n",
    "import matplotlib.image as mpimg\n",
    "from PIL import Image\n",
    "lena = mpimg.imread('lena.png') # 这里读入的数据是 float32 型的，范围是0-1\n",
    "im = Image.fromarray(np.uinit8(lena*255))\n",
    "im.show()\n",
    "\n",
    " 5. RGB 转换为灰度图\n",
    "from PIL import Image\n",
    "I = Image.open('lena.png')\n",
    "I.show()\n",
    "L = I.convert('L')\n",
    "L.show()"
   ]
  },
  {
   "cell_type": "markdown",
   "metadata": {},
   "source": [
    "CV2\n",
    "1.读取\n",
    " 读入时可制定\n",
    "cvim=cv2.imread(chosedfile[0],cv2.CV_LOAD_IMAGE_GRAYSCALE)"
   ]
  },
  {
   "cell_type": "code",
   "execution_count": 1,
   "metadata": {
    "collapsed": false
   },
   "outputs": [],
   "source": [
    "import torch\n",
    "import torchvision\n",
    "import torchvision.transforms as transforms\n",
    "import torch.nn as nn\n",
    "import torch.nn.functional as F\n",
    "import torch.optim as optim\n",
    "from torch.autograd import Variable\n",
    "import matplotlib.pyplot as plt\n",
    "import numpy as np\n",
    "from torchvision.datasets import mnist\n",
    "from PIL import Image\n",
    "import os\n",
    "import os.path\n",
    "import random\n",
    "import cv2\n",
    "import math\n",
    "from scipy import ndimage\n",
    "import torch.utils.data as data"
   ]
  },
  {
   "cell_type": "code",
   "execution_count": 2,
   "metadata": {
    "collapsed": false
   },
   "outputs": [],
   "source": [
    "%matplotlib inline\n",
    "def imshow(img):\n",
    "    img = img / 2 + 0.5 # unnormalize Inception v3 \t22.55 \t6.44\n",
    "    npimg = img.numpy()\n",
    "    plt.imshow(np.transpose(npimg, (1,2,0)))\n",
    "    \n",
    "def getBestShift(img):\n",
    "    cy,cx = ndimage.measurements.center_of_mass(img)\n",
    "    rows,cols = img.shape\n",
    "    shiftx = np.round(cols/2.0-cx).astype(int)\n",
    "    shifty = np.round(rows/2.0-cy).astype(int)\n",
    "    return shiftx,shifty\n",
    "    \n",
    "def shift(img,sx,sy):\n",
    "    rows,cols = img.shape\n",
    "    M = np.float32([[1,0,sx],[0,1,sy]])\n",
    "    shifted = cv2.warpAffine(img,M,(cols,rows))\n",
    "    return shifted    \n",
    "  \n",
    "def centrelize(gray): # move a char, black as background, and white as foreground,  to center of a 28*28 image\n",
    "    while np.sum(gray[0]) == 0:\n",
    "        gray = gray[1:]\n",
    "        \n",
    "    while np.sum(gray[:,0]) == 0:\n",
    "        gray = np.delete(gray,0,1)\n",
    "\n",
    "    while np.sum(gray[-1]) == 0:\n",
    "        gray = gray[:-1]\n",
    "        \n",
    "    while np.sum(gray[:,-1]) == 0:\n",
    "        gray = np.delete(gray,-1,1)\n",
    "\n",
    "    rows,cols = gray.shape\n",
    "        \n",
    "    if rows>cols:\n",
    "        factor = 20.0/rows\n",
    "        rows = 20\n",
    "        cols = int(round(cols*factor))\n",
    "        gray = cv2.resize(gray,(cols,rows))\n",
    "    else:\n",
    "        factor = 20.0/cols\n",
    "        cols = 20\n",
    "        rows = int(round(rows*factor))\n",
    "        gray = cv2.resize(gray,(cols,rows))\n",
    "\n",
    "    colsPadding = (int(math.ceil((28-cols)/2.0)),int(math.floor((28-cols)/2.0)))\n",
    "    rowsPadding = (int(math.ceil((28-rows)/2.0)),int(math.floor((28-rows)/2.0)))\n",
    "    gray = np.lib.pad(gray,(rowsPadding,colsPadding),'constant')\n",
    "    shiftx,shifty = getBestShift(gray)\n",
    "    shifted = shift(gray,shiftx,shifty)\n",
    "    \n",
    "    return shifted    "
   ]
  },
  {
   "cell_type": "code",
   "execution_count": 13,
   "metadata": {
    "collapsed": false
   },
   "outputs": [],
   "source": [
    "class PICSET(data.Dataset):\n",
    "    picroot='pic'\n",
    "    \n",
    "    def __getitem__(self,index):\n",
    "        img=self.dataset[index]\n",
    "        img=Image.fromarray(img.numpy(), mode='L')\n",
    "        if self.transform is not None:\n",
    "            img=self.transform(img)\n",
    "        return img\n",
    "    \n",
    "    def __len__(self):\n",
    "        return self.len\n",
    "\n",
    "    def __init__(self,root,transform=None):\n",
    "        self.picroot=root\n",
    "        self.transform=transform\n",
    "        self.kernel = cv2.getStructuringElement(cv2.MORPH_RECT,(3, 3))\n",
    "        \n",
    "        if not os.path.exists(self.picroot):\n",
    "            raise RuntimeError('{} doesnot exists'.format(self.picroot))\n",
    "        for root,dnames,filenames in os.walk(self.picroot):\n",
    "            imgs=np.ndarray(shape=(len(filenames),28,28),dtype=np.float)\n",
    "            i=0\n",
    "            for filename in filenames:\n",
    "                picfilename=os.path.join(self.picroot,filename)\n",
    "                im=cv2.imread(picfilename,cv2.IMREAD_GRAYSCALE)\n",
    "                im=cv2.resize(255-im,(28,28))\n",
    "                (thresh, im) = cv2.threshold(im, 32, 255, cv2.THRESH_BINARY | cv2.THRESH_OTSU)   \n",
    "                #im=cv2.erode(im,self.kernel)\n",
    "                #im=cv2.dilate(im,self.kernel)\n",
    "                #im=cv2.GaussianBlur(im,(5,5),0.1)\n",
    "                im=centrelize(im)\n",
    "                (thresh, im) = cv2.threshold(im, 32, 255, cv2.THRESH_BINARY | cv2.THRESH_OTSU)   \n",
    "                imgs[i]=im/255\n",
    "                i=i+1\n",
    "            self.dataset=torch.FloatTensor(imgs)\n",
    "            self.len=len(filenames)        "
   ]
  },
  {
   "cell_type": "code",
   "execution_count": 14,
   "metadata": {
    "collapsed": false
   },
   "outputs": [],
   "source": [
    "class Net1(nn.Module):\n",
    "    def __init__(self):    \n",
    "        super(Net1, self).__init__()        \n",
    "        self.conv1 = nn.Conv2d(1, 6, 5)\n",
    "        self.pool  = nn.MaxPool2d(2,2)\n",
    "        self.conv2 = nn.Conv2d(6, 16, 5)\n",
    "        self.fc1   = nn.Linear(16*4*4, 120)\n",
    "        self.fc2   = nn.Linear(120, 84)\n",
    "        self.fc3   = nn.Linear(84, 10)\n",
    "        self.conv2drop=nn.Dropout2d()\n",
    "        \n",
    "    def forward(self, x):\n",
    "        x = F.relu(self.pool(self.conv1(x)))\n",
    "        x = F.relu(self.pool(self.conv2drop(self.conv2(x))))\n",
    "        x = x.view(-1, 16*4*4)\n",
    "        x = F.relu(self.fc1(x))\n",
    "        x = F.relu(self.fc2(x))\n",
    "        x = F.dropout(x, training=self.training)\n",
    "        x = self.fc3(x)\n",
    "        return F.log_softmax(x)\n",
    "    \n",
    "    def num_flat_features(self, x):\n",
    "        size = x.size()[1:] # all dimensions except the batch dimension\n",
    "        num_features = 1\n",
    "        for s in size:\n",
    "            num_features *= sos.path\n",
    "        return num_features\n",
    "\n",
    "\n",
    "class Net2(nn.Module):\n",
    "    def __init__(self):    \n",
    "        super(Net2, self).__init__()        \n",
    "        self.conv1 = nn.Conv2d(1, 10, kernel_size=5)\n",
    "        self.conv2 = nn.Conv2d(10, 20, kernel_size=5)\n",
    "        self.conv2_drop = nn.Dropout2d()\n",
    "        self.fc1 = nn.Linear(320, 50)\n",
    "        self.fc2 = nn.Linear(50, 10)\n",
    "        \n",
    "    def forward(self, x):\n",
    "        x = F.relu(F.max_pool2d(self.conv1(x), 2))\n",
    "        x = F.relu(F.max_pool2d(self.conv2_drop(self.conv2(x)), 2))\n",
    "        x = x.view(-1, 320)\n",
    "        x = F.relu(self.fc1(x))\n",
    "        x = F.dropout(x, training=self.training)\n",
    "        x = self.fc2(x)\n",
    "        return F.log_softmax(x)        \n",
    "    \n",
    "    def num_flat_features(self, x):\n",
    "        size = x.size()[1:] # all dimensions except the batch dimension\n",
    "        num_features = 1\n",
    "        for s in size:\n",
    "            num_features *= sos.path\n",
    "        return num_features\n",
    "\n",
    "class Model(nn.Module):\n",
    "    def __init__(self):\n",
    "        super(Model, self).__init__()\n",
    "        self.conv1 = nn.Conv2d(1, 10, kernel_size=5)\n",
    "        self.conv2 = nn.Conv2d(10, 20, kernel_size=5)\n",
    "        self.conv2_drop = nn.Dropout2d()\n",
    "        self.fc1 = nn.Linear(320, 50)\n",
    "        self.fc2 = nn.Linear(50, 10)\n",
    "\n",
    "    def forward(self, x):\n",
    "        x = F.relu(F.max_pool2d(self.conv1(x), 2))\n",
    "        x = F.relu(F.max_pool2d(self.conv2_drop(self.conv2(x)), 2))\n",
    "        x = x.view(-1, 320)\n",
    "        x = F.relu(self.fc1(x))\n",
    "        x = F.dropout(x, training=self.training)\n",
    "        x = self.fc2(x)\n",
    "        return F.log_softmax(x)    "
   ]
  },
  {
   "cell_type": "code",
   "execution_count": 15,
   "metadata": {
    "collapsed": false
   },
   "outputs": [],
   "source": [
    "#model=Net1()\n",
    "#model.load_state_dict(torch.load('/home/wang/git/cifar10/mnist.weight'))\n",
    "model=Model()\n",
    "model.load_state_dict(torch.load('/home/wang/git/cifar10/officalmnist.weight'))"
   ]
  },
  {
   "cell_type": "code",
   "execution_count": 28,
   "metadata": {
    "collapsed": false
   },
   "outputs": [
    {
     "data": {
      "image/png": "[encoded data removed]",
      "text/plain": [
       "<matplotlib.figure.Figure at 0x7f57fc585450>"
      ]
     },
     "metadata": {},
     "output_type": "display_data"
    }
   ],
   "source": [
    "#图像来自pic目录\n",
    "batch=4\n",
    "inputarray=np.ndarray(shape=(batch,1,28,28),dtype=float)\n",
    "files=os.listdir('pic')\n",
    "chosedfile={}.fromkeys(range(batch))\n",
    "for k in chosedfile:\n",
    "    chosedfile[k]=os.path.join('pic',random.choice(files))\n",
    "\n",
    "kernel = cv2.getStructuringElement(cv2.MORPH_RECT,(3, 3))\n",
    "for k in chosedfile:\n",
    "    im=cv2.imread(chosedfile[k],cv2.CV_LOAD_IMAGE_GRAYSCALE)\n",
    "    gray=cv2.resize(255-im,(28,28))\n",
    "    (thresh, gray) = cv2.threshold(gray, 32, 255, cv2.THRESH_BINARY | cv2.THRESH_OTSU)   \n",
    "    gray=centrelize(gray)\n",
    "    (thresh, gray) = cv2.threshold(gray, 32, 255, cv2.THRESH_BINARY | cv2.THRESH_OTSU)   \n",
    "    gray=cv2.dilate(gray,kernel)\n",
    "    gray=gray/255\n",
    "    gray=(gray-0.5)*2\n",
    "    inputarray[k][0]=gray\n",
    "\n",
    "inputs=torch.FloatTensor(inputarray)\n",
    "imshow(torchvision.utils.make_grid(inputs))    \n",
    "\n",
    "#---------自行构造从目录读图的dataset以便使用dataloader\n",
    "transform=transforms.Compose([transforms.ToTensor(),\n",
    "                              transforms.Normalize((0.5,), (0.5,)),\n",
    "                             ])\n",
    "#picset = PICSET(root='pic', transform=transform)\n",
    "#picloader = torch.utils.data.DataLoader(picset, batch_size=batch, shuffle=False, num_workers=1)\n",
    "#piciter = iter(picloader)\n"
   ]
  },
  {
   "cell_type": "code",
   "execution_count": 29,
   "metadata": {
    "collapsed": false
   },
   "outputs": [
    {
     "name": "stdout",
     "output_type": "stream",
     "text": [
      "\n",
      " 0\n",
      " 6\n",
      " 1\n",
      " 5\n",
      "[torch.IntTensor of size 4x1]\n",
      "\n"
     ]
    }
   ],
   "source": [
    "#mages = piciter.next()\n",
    "#=images.numpy()\n",
    "#rint a.shape\n",
    "#rint a[0][0]\n",
    "#mshow(torchvision.utils.make_grid(torch.FloatTensor(images.numpy()/2+0.5)))\n",
    "\n",
    "#images = torch.FloatTensor((1-(images.numpy()/2+0.5)-0.5)*2)\n",
    "       \n",
    "#imshow(torchvision.utils.make_grid(torch.FloatTensor((1-(images.numpy()/2+0.5)-0.5)*2)))     #from [-1,1] to [0,1] and to[-1,1]   \n",
    "\n",
    "outputs = model(Variable(inputs))\n",
    "_,predicted = torch.max(outputs.data, 1)\n",
    "#print chosedfile\n",
    "print predicted.int()\n",
    "#print classes[predicted.int()] "
   ]
  },
  {
   "cell_type": "code",
   "execution_count": 30,
   "metadata": {
    "collapsed": false,
    "scrolled": true
   },
   "outputs": [
    {
     "name": "stdout",
     "output_type": "stream",
     "text": [
      "Files already downloaded\n"
     ]
    }
   ],
   "source": [
    "#图像来自mnist test set\n",
    "#testset = mnist.MNIST(root='MNIST', train=False, download=True)\n",
    "#b=random.randint(0,mnist.MNIST.__len__(testset)-batch)\n",
    "#for i in range(0,batch):\n",
    "    #timg,tlabel=mnist.MNIST.__getitem__(testset,b+i)  #timg is PIL.Image\n",
    "    #inputarray[i][0]=np.asarray(list(timg.getdata())).reshape((28,28))\n",
    "    #inputarray[i][0]=inputarray[i][0]/255\n",
    "    #inputarray[i][0]=(inputarray[i][0]-0.5)*2\n",
    "#inputs=torch.FloatTensor(inputarray)\n",
    "#imshow(torchvision.utils.make_grid(inputs))        \n",
    "#-----------------------------------\n",
    "testset = mnist.MNIST(root='MNIST', train=False, download=True, transform=transform)\n",
    "testloader = torch.utils.data.DataLoader(testset, batch_size=batch, shuffle=False, num_workers=2)\n",
    "mnistiter = iter(testloader)"
   ]
  },
  {
   "cell_type": "code",
   "execution_count": 31,
   "metadata": {
    "collapsed": false
   },
   "outputs": [
    {
     "data": {
      "image/png": "[encoded data removed]",
      "text/plain": [
       "<matplotlib.figure.Figure at 0x7f5805282810>"
      ]
     },
     "metadata": {},
     "output_type": "display_data"
    }
   ],
   "source": [
    "images, labels = mnistiter.next()\n",
    "imshow(torchvision.utils.make_grid(images))        "
   ]
  },
  {
   "cell_type": "code",
   "execution_count": 32,
   "metadata": {
    "collapsed": false
   },
   "outputs": [
    {
     "name": "stdout",
     "output_type": "stream",
     "text": [
      "\n",
      " 7\n",
      " 2\n",
      " 1\n",
      " 0\n",
      "[torch.IntTensor of size 4x1]\n",
      "\n"
     ]
    }
   ],
   "source": [
    "outputs = model(Variable(images))\n",
    "_,predicted = torch.max(outputs.data, 1)\n",
    "print predicted.int()\n"
   ]
  },
  {
   "cell_type": "code",
   "execution_count": null,
   "metadata": {
    "collapsed": true
   },
   "outputs": [],
   "source": []
  }
 ],
 "metadata": {
  "kernelspec": {
   "display_name": "Python 2",
   "language": "python",
   "name": "python2"
  },
  "language_info": {
   "codemirror_mode": {
    "name": "ipython",
    "version": 2
   },
   "file_extension": ".py",
   "mimetype": "text/x-python",
   "name": "python",
   "nbconvert_exporter": "python",
   "pygments_lexer": "ipython2",
   "version": "2.7.13"
  }
 },
 "nbformat": 4,
 "nbformat_minor": 2
}
