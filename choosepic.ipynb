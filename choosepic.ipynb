{
 "cells": [
  {
   "cell_type": "code",
   "execution_count": 1,
   "metadata": {
    "collapsed": false
   },
   "outputs": [],
   "source": [
    "import os\n",
    "import sys\n",
    "import os.path\n",
    "import random"
   ]
  },
  {
   "cell_type": "code",
   "execution_count": null,
   "metadata": {
    "collapsed": false
   },
   "outputs": [
    {
     "name": "stdout",
     "output_type": "stream",
     "text": [
      "amount: 397\n",
      "amount of files is smaller or equal 400, exit\n"
     ]
    }
   ],
   "source": [
    "def choose(sourcedir,destdir,num):\n",
    "    if not os.path.exists(sourcedir):\n",
    "        print \"{} doesn't exist.\".format(sourcedir)\n",
    "        exit()\n",
    "    if not os.path.exists(destdir):\n",
    "        print \"{} doesn't exist.\".format(destdir)\n",
    "        exit()\n",
    "\n",
    "    res=set()\n",
    "    for root,dirnames,filenames in os.walk(sourcedir):\n",
    "        if (len(filenames)<num):\n",
    "            print \"amount: {}\".format(len(filenames))\n",
    "            print \"amount of files is smaller or equal {}, exit\".format(num)\n",
    "            exit()\n",
    "        while(len(res)<num):\n",
    "            thefile=random.choice(filenames)\n",
    "            sourcefile=os.path.join(sourcedir,thefile)\n",
    "            destfile=os.path.join(destdir,thefile)\n",
    "            cmd='cp {}  {}'.format(sourcefile,destfile)\n",
    "            res.add(cmd)\n",
    "\n",
    "    x=0\n",
    "    for i in res:\n",
    "        os.system(i)\n",
    "        x+=1\n",
    "        print '{} {}'.format(x,i)"
   ]
  },
  {
   "cell_type": "code",
   "execution_count": null,
   "metadata": {
    "collapsed": true
   },
   "outputs": [],
   "source": [
    "choose('/home/wang/git/','',400)"
   ]
  },
  {
   "cell_type": "code",
   "execution_count": null,
   "metadata": {
    "collapsed": true
   },
   "outputs": [],
   "source": []
  }
 ],
 "metadata": {
  "kernelspec": {
   "display_name": "Python 2",
   "language": "python",
   "name": "python2"
  },
  "language_info": {
   "codemirror_mode": {
    "name": "ipython",
    "version": 2
   },
   "file_extension": ".py",
   "mimetype": "text/x-python",
   "name": "python",
   "nbconvert_exporter": "python",
   "pygments_lexer": "ipython2",
   "version": "2.7.13"
  }
 },
 "nbformat": 4,
 "nbformat_minor": 2
}
