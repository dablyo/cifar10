{
 "cells": [
  {
   "cell_type": "markdown",
   "metadata": {},
   "source": [
    "read image file from \n",
    "    iamge:   /home/wang/git/cifar10/MNIST/raw/t10k-images-idx3-ubyte\n",
    "    label:   /home/wang/git/cifar10/MNIST/raw/t10k-labelss-idx3-ubyte"
   ]
  },
  {
   "cell_type": "code",
   "execution_count": 8,
   "metadata": {
    "collapsed": true
   },
   "outputs": [],
   "source": [
    "import torch.utils.data as data\n",
    "from PIL import Image\n",
    "files=os.listdir('pic')\n",
    "chosedfile={}.fromkeys(range(batch))\n",
    "for k in chosedfile:\n",
    "    chosedfile[k]=os.path.join('pic',random.choice(files))\n",
    "import errno\n",
    "import torch\n",
    "import json\n",
    "import codecs\n",
    "import numpy as np\n",
    "import shutil"
   ]
  },
  {
   "cell_type": "code",
   "execution_count": 9,
   "metadata": {
    "collapsed": true
   },
   "outputs": [],
   "source": [
    "classes=['0','1','2','3','4','5','6','7','8','9']\n",
    "root='MNIST'\n",
    "srcdir='raw'\n",
    "dstdir='mnistpic'\n",
    "trainimgfile='train-images-idx3-ubyte'\n",
    "trainlabelfile='train-labels-idx1-ubyte'\n",
    "testimgfile='t10k-images-idx3-ubyte'\n",
    "testlabelfile='t10k-labels-idx1-ubyte'\n",
    "\n",
    "def get_int(b):\n",
    "    return int(codecs.encode(b, 'hex'), 16)\n",
    "\n",
    "def parse_byte(b):\n",
    "    if isinstance(b, str):\n",
    "        return ord(b)\n",
    "    return b\n",
    "\n",
    "def read_label_file(file):\n",
    "    with open(file,'rb') as f:\n",
    "        data=f.read()\n",
    "        assert get_int(data[:4]) == 2049\n",
    "        length = get_int(data[4:8])\n",
    "        labels = [parse_byte(b) for b in data[8:]]\n",
    "        assert len(labels) == length\n",
    "        return labels\n",
    "    \n",
    "\n",
    "def read_image_file(file):\n",
    "    with open(file, 'rb') as f:\n",
    "        data = f.read()\n",
    "        assert get_int(data[:4]) == 2051\n",
    "        length = get_int(data[4:8])\n",
    "        num_rows = get_int(data[8:12])\n",
    "        num_cols = get_int(data[12:16])\n",
    "        images = []\n",
    "        idx = 16\n",
    "        #for l in range(length):backend\n",
    "        img = []\n",
    "        images.append(img)\n",
    "            for r in range(num_rows):\n",
    "                row = []\n",
    "                img.append(row)\n",
    "                for c in range(num_cols):\n",
    "                    row.append(parse_byte(data[idx]))\n",
    "                    idx += 1\n",
    "        assert len(images) == length\n",
    "        return length,num_rows,num_cols,images\n",
    "    "
   ]
  },
  {
   "cell_type": "code",
   "execution_count": 10,
   "metadata": {
    "collapsed": false
   },
   "outputs": [],
   "source": [
    "if os.path.exists(os.path.join(root,dstdir)):\n",
    "    shutil.rmtree(os.path.join(root,dstdir))\n",
    "os.mkdir(os.path.join(root,dstdir))\n",
    "for i in range(10):\n",
    "    os.mkdir(os.path.join(root,dstdir,classes[i]))\n",
    "    "
   ]
  },
  {
   "cell_type": "code",
   "execution_count": 11,
   "metadata": {
    "collapsed": false
   },
   "outputs": [
    {
     "ename": "SyntaxError",
     "evalue": "invalid syntax (<ipython-input-11-ec50ffbc49da>, line 2)",
     "output_type": "error",
     "traceback": [
      "\u001b[0;36m  File \u001b[0;32m\"<ipython-input-11-ec50ffbc49da>\"\u001b[0;36m, line \u001b[0;32m2\u001b[0m\n\u001b[0;31m    print filename\u001b[0m\n\u001b[0m                 ^\u001b[0m\n\u001b[0;31mSyntaxError\u001b[0m\u001b[0;31m:\u001b[0m invalid syntax\n"
     ]
    }
   ],
   "source": [
    "filename=os.path.join(root, srcdir, testimgfile)backend\n",
    "print filename\n",
    "#labels=read_label_file(filename)\n",
    "filename=os.path.join(root, srcdir,testlabelfile)\n",
    "print filename\n",
    "#num_pic,num_h,num_v,imgs=read_image_file(filename)\n",
    "#assert len(labels)==num_pic\n",
    "#assert num_h==len(img[0])\n",
    "#assert num_v==len(img[0][0])\n"
   ]
  },
  {
   "cell_type": "code",
   "execution_count": null,
   "metadata": {
    "collapsed": true
   },
   "outputs": [],
   "source": [
    "print num_pic"
   ]
  },
  {
   "cell_type": "code",
   "execution_count": 24,
   "metadata": {
    "collapsed": false
   },
   "outputs": [
    {
     "ename": "SyntaxError",
     "evalue": "invalid syntax (<ipython-input-24-adb765a3c22c>, line 2)",
     "output_type": "error",
     "traceback": [
      "\u001b[0;36m  File \u001b[0;32m\"<ipython-input-24-adb765a3c22c>\"\u001b[0;36m, line \u001b[0;32m2\u001b[0m\n\u001b[0;31m    print num\u001b[0m\n\u001b[0m            ^\u001b[0m\n\u001b[0;31mSyntaxError\u001b[0m\u001b[0;31m:\u001b[0m invalid syntax\n"
     ]
    }
   ],
   "source": [
    "for i in range(num_pic):\n",
    "    im=Image.open(StringIO.StringI(imgs[i]))\n",
    "    im.save(os.path.join(self.root,self.dstdir,'{}/{}'.format(labels[i],i),'jpg'))\n",
    "    print os.path.join(self.root,self.dstdir,'{}/{}'.format(labels[i],i),'jpg')\n",
    "    "
   ]
  },
  {
   "cell_type": "code",
   "execution_count": 13,
   "metadata": {
    "collapsed": false
   },
   "outputs": [
    {
     "ename": "SyntaxError",
     "evalue": "invalid syntax (<ipython-input-13-dbf82cd4755f>, line 2)",
     "output_type": "error",
     "traceback": [
      "\u001b[0;36m  File \u001b[0;32m\"<ipython-input-13-dbf82cd4755f>\"\u001b[0;36m, line \u001b[0;32m2\u001b[0m\n\u001b[0;31m    print cs\u001b[0m\n\u001b[0m           ^\u001b[0m\n\u001b[0;31mSyntaxError\u001b[0m\u001b[0;31m:\u001b[0m invalid syntax\n"
     ]
    }
   ],
   "source": []
  },
  {
   "cell_type": "markdown",
   "metadata": {
    "collapsed": false
   },
   "source": [
    "def get_int(b):\n",
    "    return int(codecs.encode(b, 'hex'), 16)\n",
    "def parse_byte(b):\n",
    "    if isinstance(b, str):\n",
    "        return ord(b)"
   ]
  },
  {
   "cell_type": "markdown",
   "metadata": {
    "collapsed": false
   },
   "source": [
    "#mnist label file\n",
    "#0-3---|4-7-----|8---------\n",
    "#2049|10000|label\n",
    "with open('/home/wang/git/cifar10/MNIST/raw/t10k-labels-idx1-ubyte','rb') as f:\n",
    "        data = f.read()    \n",
    "        assert get_int(data[:4]) == 2049\n",
    "        length = get_int(data[4:8])\n",
    "        labels = [parse_byte(b) for b in data[8:]]\n",
    "        assert len(labels) == length\n",
    "        #print(labels)\n",
    "        #print(data)"
   ]
  },
  {
   "cell_type": "markdown",
   "metadata": {},
   "source": [
    "why?\n",
    ">>> x = np.ones((1, 2, 3))\n",
    ">>> np.transpose(x, (1, 0, 2)).shape\n",
    "(2, 1, 3)\n",
    "\n",
    "images number is 1000\n",
    "channel 3\n",
    "image shape 32x32\n",
    "self.test_data = self.test_data.reshape((10000, 3, 32, 32)) \n",
    "self.test_data = self.test_data.transpose((0, 2, 3, 1))  # convert to HWC  what's the (0,2,3,1)\n"
   ]
  }
 ],
 "metadata": {
  "kernelspec": {
   "display_name": "Python 2",
   "language": "python",
   "name": "python2"
  },
  "language_info": {
   "codemirror_mode": {
    "name": "ipython",
    "version": 2
   },
   "file_extension": ".py",
   "mimetype": "text/x-python",
   "name": "python",
   "nbconvert_exporter": "python",
   "pygments_lexer": "ipython2",
   "version": "2.7.13"
  }
 },
 "nbformat": 4,
 "nbformat_minor": 2
}
